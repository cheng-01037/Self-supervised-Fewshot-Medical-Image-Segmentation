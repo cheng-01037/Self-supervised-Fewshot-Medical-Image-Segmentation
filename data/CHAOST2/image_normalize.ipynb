{
 "cells": [
  {
   "cell_type": "markdown",
   "metadata": {},
   "source": [
    "## Image Pre-processing\n",
    "\n",
    "### Overview\n",
    "\n",
    "This is the second step for data preparation\n",
    "\n",
    "Input: `.nii`-like images and labels converted from `dicom`s/ `png` files\n",
    "\n",
    "Output: image-labels with unified size (axial), voxel-spacing, and alleviated off-resonance effects"
   ]
  },
  {
   "cell_type": "code",
   "execution_count": 1,
   "metadata": {},
   "outputs": [
    {
     "name": "stdout",
     "output_type": "stream",
     "text": [
      "Once deleted, variables cannot be recovered. Proceed (y/[n])? y\n"
     ]
    }
   ],
   "source": [
    "%reset\n",
    "%load_ext autoreload\n",
    "%autoreload 2\n",
    "import numpy as np\n",
    "import os\n",
    "import glob\n",
    "import SimpleITK as sitk\n",
    "\n",
    "import matplotlib.pyplot as plt\n",
    "import copy\n",
    "import sys\n",
    "sys.path.insert(0, '../../dataloaders/')\n",
    "import niftiio as nio"
   ]
  },
  {
   "cell_type": "code",
   "execution_count": 2,
   "metadata": {},
   "outputs": [],
   "source": [
    "IMG_FOLDER = \"./niis/T2SPIR\" #, path of nii-like images from step 1\n",
    "OUT_FOLDER=\"./chaos_MR_T2_normalized/\" # output directory"
   ]
  },
  {
   "cell_type": "markdown",
   "metadata": {},
   "source": [
    "**0. Find images and their ground-truth segmentations**"
   ]
  },
  {
   "cell_type": "code",
   "execution_count": 3,
   "metadata": {},
   "outputs": [],
   "source": [
    "imgs = glob.glob(IMG_FOLDER + f'/image_*.nii.gz')\n",
    "imgs = [ fid for fid in sorted(imgs) ]\n",
    "segs = [ fid for fid in sorted(glob.glob(IMG_FOLDER + f'/label_*.nii.gz')) ]\n",
    "\n",
    "pids = [pid.split(\"_\")[-1].split(\".\")[0] for pid in imgs]"
   ]
  },
  {
   "cell_type": "code",
   "execution_count": 4,
   "metadata": {},
   "outputs": [
    {
     "data": {
      "text/plain": [
       "['./niis/T2SPIR/image_1.nii.gz',\n",
       " './niis/T2SPIR/image_10.nii.gz',\n",
       " './niis/T2SPIR/image_13.nii.gz',\n",
       " './niis/T2SPIR/image_15.nii.gz',\n",
       " './niis/T2SPIR/image_19.nii.gz',\n",
       " './niis/T2SPIR/image_2.nii.gz',\n",
       " './niis/T2SPIR/image_20.nii.gz',\n",
       " './niis/T2SPIR/image_21.nii.gz',\n",
       " './niis/T2SPIR/image_22.nii.gz',\n",
       " './niis/T2SPIR/image_3.nii.gz',\n",
       " './niis/T2SPIR/image_31.nii.gz',\n",
       " './niis/T2SPIR/image_32.nii.gz',\n",
       " './niis/T2SPIR/image_33.nii.gz',\n",
       " './niis/T2SPIR/image_34.nii.gz',\n",
       " './niis/T2SPIR/image_36.nii.gz',\n",
       " './niis/T2SPIR/image_37.nii.gz',\n",
       " './niis/T2SPIR/image_38.nii.gz',\n",
       " './niis/T2SPIR/image_39.nii.gz',\n",
       " './niis/T2SPIR/image_5.nii.gz',\n",
       " './niis/T2SPIR/image_8.nii.gz']"
      ]
     },
     "execution_count": 4,
     "metadata": {},
     "output_type": "execute_result"
    }
   ],
   "source": [
    "imgs"
   ]
  },
  {
   "cell_type": "code",
   "execution_count": 5,
   "metadata": {},
   "outputs": [
    {
     "data": {
      "text/plain": [
       "['./niis/T2SPIR/label_1.nii.gz',\n",
       " './niis/T2SPIR/label_10.nii.gz',\n",
       " './niis/T2SPIR/label_13.nii.gz',\n",
       " './niis/T2SPIR/label_15.nii.gz',\n",
       " './niis/T2SPIR/label_19.nii.gz',\n",
       " './niis/T2SPIR/label_2.nii.gz',\n",
       " './niis/T2SPIR/label_20.nii.gz',\n",
       " './niis/T2SPIR/label_21.nii.gz',\n",
       " './niis/T2SPIR/label_22.nii.gz',\n",
       " './niis/T2SPIR/label_3.nii.gz',\n",
       " './niis/T2SPIR/label_31.nii.gz',\n",
       " './niis/T2SPIR/label_32.nii.gz',\n",
       " './niis/T2SPIR/label_33.nii.gz',\n",
       " './niis/T2SPIR/label_34.nii.gz',\n",
       " './niis/T2SPIR/label_36.nii.gz',\n",
       " './niis/T2SPIR/label_37.nii.gz',\n",
       " './niis/T2SPIR/label_38.nii.gz',\n",
       " './niis/T2SPIR/label_39.nii.gz',\n",
       " './niis/T2SPIR/label_5.nii.gz',\n",
       " './niis/T2SPIR/label_8.nii.gz']"
      ]
     },
     "execution_count": 5,
     "metadata": {},
     "output_type": "execute_result"
    }
   ],
   "source": [
    "segs"
   ]
  },
  {
   "cell_type": "markdown",
   "metadata": {},
   "source": [
    "**1. Unify image sizes and roi**\n",
    "\n",
    "a. Cut bright end of histogram to alleviate off-resonance issue\n",
    "\n",
    "b. Resample images to unified spacing\n",
    "\n",
    "c. Crop ROIs out to unify image sizes"
   ]
  },
  {
   "cell_type": "code",
   "execution_count": 6,
   "metadata": {},
   "outputs": [],
   "source": [
    "# some helper functions\n",
    "def resample_by_res(mov_img_obj, new_spacing, interpolator = sitk.sitkLinear, logging = True):\n",
    "    resample = sitk.ResampleImageFilter()\n",
    "    resample.SetInterpolator(interpolator)\n",
    "    resample.SetOutputDirection(mov_img_obj.GetDirection())\n",
    "    resample.SetOutputOrigin(mov_img_obj.GetOrigin())\n",
    "    mov_spacing = mov_img_obj.GetSpacing()\n",
    "\n",
    "    resample.SetOutputSpacing(new_spacing)\n",
    "    RES_COE = np.array(mov_spacing) * 1.0 / np.array(new_spacing)\n",
    "    new_size = np.array(mov_img_obj.GetSize()) *  RES_COE \n",
    "\n",
    "    resample.SetSize( [int(sz+1) for sz in new_size] )\n",
    "    if logging:\n",
    "        print(\"Spacing: {} -> {}\".format(mov_spacing, new_spacing))\n",
    "        print(\"Size {} -> {}\".format( mov_img_obj.GetSize(), new_size ))\n",
    "\n",
    "    return resample.Execute(mov_img_obj)\n",
    "\n",
    "def resample_lb_by_res(mov_lb_obj, new_spacing, interpolator = sitk.sitkLinear, ref_img = None, logging = True):\n",
    "    src_mat = sitk.GetArrayFromImage(mov_lb_obj)\n",
    "    lbvs = np.unique(src_mat)\n",
    "    if logging:\n",
    "        print(\"Label values: {}\".format(lbvs))\n",
    "    for idx, lbv in enumerate(lbvs):\n",
    "        _src_curr_mat = np.float32(src_mat == lbv) \n",
    "        _src_curr_obj = sitk.GetImageFromArray(_src_curr_mat)\n",
    "        _src_curr_obj.CopyInformation(mov_lb_obj)\n",
    "        _tar_curr_obj = resample_by_res( _src_curr_obj, new_spacing, interpolator, logging )\n",
    "        _tar_curr_mat = np.rint(sitk.GetArrayFromImage(_tar_curr_obj)) * lbv\n",
    "        if idx == 0:\n",
    "            out_vol = _tar_curr_mat\n",
    "        else:\n",
    "            out_vol[_tar_curr_mat == lbv] = lbv\n",
    "    out_obj = sitk.GetImageFromArray(out_vol)\n",
    "    out_obj.SetSpacing( _tar_curr_obj.GetSpacing() )\n",
    "    if ref_img != None:\n",
    "        out_obj.CopyInformation(ref_img)\n",
    "    return out_obj\n",
    "        \n",
    "def get_label_center(label):\n",
    "    nnz = np.sum(label > 1e-5)\n",
    "    return np.int32(np.rint(np.sum(np.nonzero(label), axis = 1) * 1.0 / nnz))\n",
    "\n",
    "def image_crop(ori_vol, crop_size, referece_ctr_idx, padval = 0., only_2d = True):\n",
    "    \"\"\" crop a 3d matrix given the index of the new volume on the original volume\n",
    "        Args:\n",
    "            refernce_ctr_idx: the center of the new volume on the original volume (in indices)\n",
    "            only_2d: only do cropping on first two dimensions\n",
    "    \"\"\"\n",
    "    _expand_cropsize = [x + 1 for x in crop_size] # to deal with boundary case\n",
    "    if only_2d:\n",
    "        assert len(crop_size) == 2, \"Actual len {}\".format(len(crop_size))\n",
    "        assert len(referece_ctr_idx) == 2, \"Actual len {}\".format(len(referece_ctr_idx))\n",
    "        _expand_cropsize.append(ori_vol.shape[-1])\n",
    "        \n",
    "    image_patch = np.ones(tuple(_expand_cropsize)) * padval\n",
    "\n",
    "    half_size = tuple( [int(x * 1.0 / 2) for x in _expand_cropsize] )\n",
    "    _min_idx = [0,0,0]\n",
    "    _max_idx = list(ori_vol.shape)\n",
    "\n",
    "    # bias of actual cropped size to the beginning and the end of this volume\n",
    "    _bias_start = [0,0,0]\n",
    "    _bias_end = [0,0,0]\n",
    "\n",
    "    for dim,hsize in enumerate(half_size):\n",
    "        if dim == 2 and only_2d:\n",
    "            break\n",
    "\n",
    "        _bias_start[dim] = np.min([hsize, referece_ctr_idx[dim]])\n",
    "        _bias_end[dim] = np.min([hsize, ori_vol.shape[dim] - referece_ctr_idx[dim]])\n",
    "\n",
    "        _min_idx[dim] = referece_ctr_idx[dim] - _bias_start[dim]\n",
    "        _max_idx[dim] = referece_ctr_idx[dim] + _bias_end[dim]\n",
    "        \n",
    "    if only_2d:\n",
    "        image_patch[ half_size[0] - _bias_start[0]: half_size[0] +_bias_end[0], \\\n",
    "                half_size[1] - _bias_start[1]: half_size[1] +_bias_end[1], ... ] = \\\n",
    "                ori_vol[ referece_ctr_idx[0] - _bias_start[0]: referece_ctr_idx[0] +_bias_end[0], \\\n",
    "                referece_ctr_idx[1] - _bias_start[1]: referece_ctr_idx[1] +_bias_end[1], ... ]\n",
    "\n",
    "        image_patch = image_patch[ 0: crop_size[0], 0: crop_size[1], : ]\n",
    "    # then goes back to original volume\n",
    "    else:\n",
    "        image_patch[ half_size[0] - _bias_start[0]: half_size[0] +_bias_end[0], \\\n",
    "                half_size[1] - _bias_start[1]: half_size[1] +_bias_end[1], \\\n",
    "                half_size[2] - _bias_start[2]: half_size[2] +_bias_end[2] ] = \\\n",
    "                ori_vol[ referece_ctr_idx[0] - _bias_start[0]: referece_ctr_idx[0] +_bias_end[0], \\\n",
    "                referece_ctr_idx[1] - _bias_start[1]: referece_ctr_idx[1] +_bias_end[1], \\\n",
    "                referece_ctr_idx[2] - _bias_start[2]: referece_ctr_idx[2] +_bias_end[2] ]\n",
    "\n",
    "        image_patch = image_patch[ 0: crop_size[0], 0: crop_size[1], 0: crop_size[2] ]\n",
    "    return image_patch\n",
    "\n",
    "def copy_spacing_ori(src, dst):\n",
    "    dst.SetSpacing(src.GetSpacing())\n",
    "    dst.SetOrigin(src.GetOrigin())\n",
    "    dst.SetDirection(src.GetDirection())\n",
    "    return dst\n",
    "\n",
    "s2n = sitk.GetArrayFromImage"
   ]
  },
  {
   "cell_type": "code",
   "execution_count": 7,
   "metadata": {
    "scrolled": false
   },
   "outputs": [
    {
     "name": "stdout",
     "output_type": "stream",
     "text": [
      "Failed to create the output folder.\n"
     ]
    },
    {
     "ename": "NameError",
     "evalue": "name 'copy_spacing_ori' is not defined",
     "output_type": "error",
     "traceback": [
      "\u001b[0;31m---------------------------------------------------------------------------\u001b[0m",
      "\u001b[0;31mNameError\u001b[0m                                 Traceback (most recent call last)",
      "\u001b[0;32m<ipython-input-7-ac683cabbc43>\u001b[0m in \u001b[0;36m<module>\u001b[0;34m\u001b[0m\n\u001b[1;32m     24\u001b[0m \u001b[0;34m\u001b[0m\u001b[0m\n\u001b[1;32m     25\u001b[0m     \u001b[0mhis_img_o\u001b[0m \u001b[0;34m=\u001b[0m \u001b[0msitk\u001b[0m\u001b[0;34m.\u001b[0m\u001b[0mGetImageFromArray\u001b[0m\u001b[0;34m(\u001b[0m\u001b[0marray\u001b[0m\u001b[0;34m)\u001b[0m\u001b[0;34m\u001b[0m\u001b[0m\n\u001b[0;32m---> 26\u001b[0;31m     \u001b[0mhis_img_o\u001b[0m \u001b[0;34m=\u001b[0m \u001b[0mcopy_spacing_ori\u001b[0m\u001b[0;34m(\u001b[0m\u001b[0mimg_obj\u001b[0m\u001b[0;34m,\u001b[0m \u001b[0mhis_img_o\u001b[0m\u001b[0;34m)\u001b[0m\u001b[0;34m\u001b[0m\u001b[0m\n\u001b[0m\u001b[1;32m     27\u001b[0m \u001b[0;34m\u001b[0m\u001b[0m\n\u001b[1;32m     28\u001b[0m     \u001b[0;31m# resampling\u001b[0m\u001b[0;34m\u001b[0m\u001b[0;34m\u001b[0m\u001b[0m\n",
      "\u001b[0;31mNameError\u001b[0m: name 'copy_spacing_ori' is not defined"
     ]
    }
   ],
   "source": [
    "import copy\n",
    "try:\n",
    "    os.mkdir(OUT_FOLDER)\n",
    "except:\n",
    "    print(\"Failed to create the output folder.\")\n",
    "    \n",
    "HIST_CUT_TOP = 0.5 # cut top 0.5% of intensity histogram to alleviate off-resonance effect\n",
    "\n",
    "NEW_SPA = [1.25, 1.25, 7.70] # unified voxel spacing\n",
    "\n",
    "for img_fid, seg_fid, pid in zip(imgs, segs, pids):\n",
    "\n",
    "    lb_n = nio.read_nii_bysitk(seg_fid)\n",
    "    resample_flg = True\n",
    "\n",
    "    img_obj = sitk.ReadImage( img_fid )\n",
    "    seg_obj = sitk.ReadImage( seg_fid )\n",
    "\n",
    "    array = sitk.GetArrayFromImage(img_obj)\n",
    "\n",
    "    # cut histogram\n",
    "    hir = float(np.percentile(array, 100.0 - HIST_CUT_TOP))\n",
    "    array[array > hir] = hir\n",
    "\n",
    "    his_img_o = sitk.GetImageFromArray(array)\n",
    "    his_img_o = copy_spacing_ori(img_obj, his_img_o)\n",
    "\n",
    "    # resampling\n",
    "    img_spa_ori = img_obj.GetSpacing()\n",
    "    res_img_o = resample_by_res(his_img_o, [NEW_SPA[0], NEW_SPA[1], NEW_SPA[2]],\n",
    "                            interpolator = sitk.sitkLinear, logging = True)\n",
    "\n",
    "\n",
    "\n",
    "    ## label\n",
    "    lb_arr = sitk.GetArrayFromImage(seg_obj)\n",
    "\n",
    "    # resampling\n",
    "    res_lb_o = resample_lb_by_res(seg_obj,  [NEW_SPA[0], NEW_SPA[1], NEW_SPA[2] ], interpolator = sitk.sitkLinear,\n",
    "                                  ref_img = None, logging = True)\n",
    "\n",
    "\n",
    "    # crop out rois\n",
    "    res_img_a = s2n(res_img_o)\n",
    "\n",
    "    crop_img_a = image_crop(res_img_a.transpose(1,2,0), [256, 256],\n",
    "                            referece_ctr_idx = [res_img_a.shape[1] // 2, res_img_a.shape[2] //2],\n",
    "                            padval = res_img_a.min(), only_2d = True).transpose(2,0,1)\n",
    "\n",
    "    out_img_obj = copy_spacing_ori(res_img_o, sitk.GetImageFromArray(crop_img_a))\n",
    "\n",
    "    res_lb_a = s2n(res_lb_o)\n",
    "\n",
    "    crop_lb_a = image_crop(res_lb_a.transpose(1,2,0), [256, 256],\n",
    "                            referece_ctr_idx = [res_lb_a.shape[1] // 2, res_lb_a.shape[2] //2],\n",
    "                            padval = 0, only_2d = True).transpose(2,0,1)\n",
    "\n",
    "    out_lb_obj = copy_spacing_ori(res_img_o, sitk.GetImageFromArray(crop_lb_a))\n",
    "\n",
    "\n",
    "    out_img_fid = os.path.join( OUT_FOLDER, f'image_{pid}.nii.gz' )\n",
    "    out_lb_fid  = os.path.join( OUT_FOLDER, f'label_{pid}.nii.gz' ) \n",
    "\n",
    "    # then save pre-processed images\n",
    "    sitk.WriteImage(out_img_obj, out_img_fid, True) \n",
    "    sitk.WriteImage(out_lb_obj, out_lb_fid, True) \n",
    "    print(\"{} has been saved\".format(out_img_fid))"
   ]
  }
 ],
 "metadata": {
  "kernelspec": {
   "display_name": "Python 3",
   "language": "python",
   "name": "python3"
  },
  "language_info": {
   "codemirror_mode": {
    "name": "ipython",
    "version": 3
   },
   "file_extension": ".py",
   "mimetype": "text/x-python",
   "name": "python",
   "nbconvert_exporter": "python",
   "pygments_lexer": "ipython3",
   "version": "3.6.0"
  }
 },
 "nbformat": 4,
 "nbformat_minor": 2
}
